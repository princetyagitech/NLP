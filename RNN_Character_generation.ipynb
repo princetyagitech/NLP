{
  "nbformat": 4,
  "nbformat_minor": 0,
  "metadata": {
    "colab": {
      "name": "RNN_Character_generation.ipynb",
      "provenance": [],
      "authorship_tag": "ABX9TyMSIAfvqtE05PLWCfLFr55m",
      "include_colab_link": true
    },
    "kernelspec": {
      "name": "python3",
      "display_name": "Python 3"
    }
  },
  "cells": [
    {
      "cell_type": "markdown",
      "metadata": {
        "id": "view-in-github",
        "colab_type": "text"
      },
      "source": [
        "<a href=\"https://colab.research.google.com/github/princetyagitech/NLP/blob/master/RNN_Character_generation.ipynb\" target=\"_parent\"><img src=\"https://colab.research.google.com/assets/colab-badge.svg\" alt=\"Open In Colab\"/></a>"
      ]
    },
    {
      "cell_type": "code",
      "metadata": {
        "id": "spJ3xVzRg4nw",
        "colab_type": "code",
        "colab": {
          "base_uri": "https://localhost:8080/",
          "height": 121
        },
        "outputId": "eab92009-e7bb-4683-816d-9edf1f302686"
      },
      "source": [
        "from google.colab import drive\n",
        "drive.mount('/content/drive')"
      ],
      "execution_count": 1,
      "outputs": [
        {
          "output_type": "stream",
          "text": [
            "Go to this URL in a browser: https://accounts.google.com/o/oauth2/auth?client_id=947318989803-6bn6qk8qdgf4n4g3pfee6491hc0brc4i.apps.googleusercontent.com&redirect_uri=urn%3aietf%3awg%3aoauth%3a2.0%3aoob&response_type=code&scope=email%20https%3a%2f%2fwww.googleapis.com%2fauth%2fdocs.test%20https%3a%2f%2fwww.googleapis.com%2fauth%2fdrive%20https%3a%2f%2fwww.googleapis.com%2fauth%2fdrive.photos.readonly%20https%3a%2f%2fwww.googleapis.com%2fauth%2fpeopleapi.readonly\n",
            "\n",
            "Enter your authorization code:\n",
            "··········\n",
            "Mounted at /content/drive\n"
          ],
          "name": "stdout"
        }
      ]
    },
    {
      "cell_type": "code",
      "metadata": {
        "id": "vItBzjvjg5pC",
        "colab_type": "code",
        "colab": {}
      },
      "source": [
        "with open('/content/drive/My Drive/Pytorch_course/deep-learning-v2-pytorch/recurrent-neural-networks/char-rnn/data/anna.txt','r') as f:\n",
        "  text=f.read()"
      ],
      "execution_count": null,
      "outputs": []
    },
    {
      "cell_type": "code",
      "metadata": {
        "id": "rdc8uV-ohO6q",
        "colab_type": "code",
        "colab": {}
      },
      "source": [
        "text[:100]"
      ],
      "execution_count": null,
      "outputs": []
    },
    {
      "cell_type": "markdown",
      "metadata": {
        "id": "XdVGYM5fhVsk",
        "colab_type": "text"
      },
      "source": [
        "# Tokenization"
      ]
    },
    {
      "cell_type": "code",
      "metadata": {
        "id": "SebWq_JchRLd",
        "colab_type": "code",
        "colab": {}
      },
      "source": [
        "chars=tuple(set(text))\n",
        "int2char=dict(enumerate(chars))\n",
        "char2int={ch:ii for ii,ch in int2char.items()}"
      ],
      "execution_count": null,
      "outputs": []
    },
    {
      "cell_type": "code",
      "metadata": {
        "id": "rR_6kuc3htzJ",
        "colab_type": "code",
        "colab": {}
      },
      "source": [
        "import numpy as np\n",
        "encoded=np.array([char2int[ch] for ch in text])"
      ],
      "execution_count": null,
      "outputs": []
    },
    {
      "cell_type": "code",
      "metadata": {
        "id": "oNQPhrqwh_Us",
        "colab_type": "code",
        "colab": {
          "base_uri": "https://localhost:8080/",
          "height": 34
        },
        "outputId": "940d56e6-e66e-49a7-e0b0-650da582aea5"
      },
      "source": [
        "encoded"
      ],
      "execution_count": null,
      "outputs": [
        {
          "output_type": "execute_result",
          "data": {
            "text/plain": [
              "array([50, 38, 80, ..., 74,  4,  0])"
            ]
          },
          "metadata": {
            "tags": []
          },
          "execution_count": 9
        }
      ]
    },
    {
      "cell_type": "code",
      "metadata": {
        "id": "KSf0GFL8iWbV",
        "colab_type": "code",
        "colab": {}
      },
      "source": [
        "def one_hot_encode(arr, n_labels):\n",
        "    \n",
        "    \n",
        "    one_hot = np.zeros((arr.size, n_labels), dtype=np.float32)\n",
        "    \n",
        "    \n",
        "    one_hot[np.arange(one_hot.shape[0]), arr.flatten()] = 1.\n",
        "    \n",
        "    \n",
        "    one_hot = one_hot.reshape((*arr.shape, n_labels))\n",
        "    \n",
        "    return one_hot"
      ],
      "execution_count": null,
      "outputs": []
    },
    {
      "cell_type": "code",
      "metadata": {
        "id": "btlqBpPmjWpM",
        "colab_type": "code",
        "colab": {}
      },
      "source": [
        "def get_batches(arr, batch_size, seq_length):\n",
        "   \n",
        "    \n",
        "    batch_size_total = batch_size * seq_length\n",
        "    \n",
        "    n_batches = len(arr)//batch_size_total\n",
        "    \n",
        "    \n",
        "    arr = arr[:n_batches * batch_size_total]\n",
        "    \n",
        "    arr = arr.reshape((batch_size, -1))\n",
        "    \n",
        "   \n",
        "    for n in range(0, arr.shape[1], seq_length):\n",
        "        # The features\n",
        "        x = arr[:, n:n+seq_length]\n",
        "        # The targets, shifted by one\n",
        "        y = np.zeros_like(x)\n",
        "        try:\n",
        "            y[:, :-1], y[:, -1] = x[:, 1:], arr[:, n+seq_length]\n",
        "        except IndexError:\n",
        "            y[:, :-1], y[:, -1] = x[:, 1:], arr[:, 0]\n",
        "        yield x, y"
      ],
      "execution_count": null,
      "outputs": []
    },
    {
      "cell_type": "code",
      "metadata": {
        "id": "qXNZ9YMnlF4F",
        "colab_type": "code",
        "colab": {
          "base_uri": "https://localhost:8080/",
          "height": 34
        },
        "outputId": "d6d0b81b-8e4c-47f3-ebf0-b98cc943fa21"
      },
      "source": [
        "# check if GPU is available\n",
        "import torch\n",
        "import torch.nn as nn\n",
        "train_on_gpu = torch.cuda.is_available()\n",
        "if(train_on_gpu):\n",
        "    print('Training on GPU!')\n",
        "else: \n",
        "    print('No GPU available, training on CPU; consider making n_epochs very small.')"
      ],
      "execution_count": null,
      "outputs": [
        {
          "output_type": "stream",
          "text": [
            "No GPU available, training on CPU; consider making n_epochs very small.\n"
          ],
          "name": "stdout"
        }
      ]
    },
    {
      "cell_type": "code",
      "metadata": {
        "id": "EBQ-0TKirJqd",
        "colab_type": "code",
        "colab": {}
      },
      "source": [
        "class CharRNN(nn.Module):\n",
        "    \n",
        "    def __init__(self, tokens, n_hidden=256, n_layers=2,\n",
        "                               drop_prob=0.5, lr=0.001):\n",
        "        super().__init__()\n",
        "        self.drop_prob = drop_prob\n",
        "        self.n_layers = n_layers\n",
        "        self.n_hidden = n_hidden\n",
        "        self.lr = lr\n",
        "        \n",
        "      \n",
        "        self.chars = tokens\n",
        "        self.int2char = dict(enumerate(self.chars))\n",
        "        self.char2int = {ch: ii for ii, ch in self.int2char.items()}\n",
        "        \n",
        "        \n",
        "        self.lstm = nn.LSTM(len(self.chars), n_hidden, n_layers, \n",
        "                            dropout=drop_prob, batch_first=True)\n",
        "        \n",
        "       \n",
        "        self.dropout = nn.Dropout(drop_prob)\n",
        "        \n",
        "        \n",
        "        self.fc = nn.Linear(n_hidden, len(self.chars))\n",
        "      \n",
        "    \n",
        "    def forward(self, x, hidden):\n",
        "        \n",
        "        r_output, hidden = self.lstm(x, hidden)\n",
        "        \n",
        "        out = self.dropout(r_output)\n",
        "        \n",
        "       \n",
        "        out = out.contiguous().view(-1, self.n_hidden)\n",
        "        \n",
        "        out = self.fc(out)\n",
        "        \n",
        "        return out, hidden\n",
        "    \n",
        "    \n",
        "    def init_hidden(self, batch_size):\n",
        "        \n",
        "        weight = next(self.parameters()).data\n",
        "        \n",
        "        if (train_on_gpu):\n",
        "            hidden = (weight.new(self.n_layers, batch_size, self.n_hidden).zero_().cuda(),\n",
        "                  weight.new(self.n_layers, batch_size, self.n_hidden).zero_().cuda())\n",
        "        else:\n",
        "            hidden = (weight.new(self.n_layers, batch_size, self.n_hidden).zero_(),\n",
        "                      weight.new(self.n_layers, batch_size, self.n_hidden).zero_())\n",
        "        \n",
        "        return hidden\n",
        "        "
      ],
      "execution_count": null,
      "outputs": []
    },
    {
      "cell_type": "code",
      "metadata": {
        "id": "6WkurxF4rP7C",
        "colab_type": "code",
        "colab": {}
      },
      "source": [
        "def train(net, data, epochs=10, batch_size=10, seq_length=50, lr=0.001, clip=5, val_frac=0.1, print_every=10):\n",
        "    \n",
        "    net.train()\n",
        "    \n",
        "    opt = torch.optim.Adam(net.parameters(), lr=lr)\n",
        "    criterion = nn.CrossEntropyLoss()\n",
        "    \n",
        "    # create training and validation data\n",
        "    val_idx = int(len(data)*(1-val_frac))\n",
        "    data, val_data = data[:val_idx], data[val_idx:]\n",
        "    \n",
        "    if(train_on_gpu):\n",
        "        net.cuda()\n",
        "    \n",
        "    counter = 0\n",
        "    n_chars = len(net.chars)\n",
        "    for e in range(epochs):\n",
        "       \n",
        "        h = net.init_hidden(batch_size)\n",
        "        \n",
        "        for x, y in get_batches(data, batch_size, seq_length):\n",
        "            counter += 1\n",
        "            \n",
        "            x = one_hot_encode(x, n_chars)\n",
        "            inputs, targets = torch.from_numpy(x), torch.from_numpy(y)\n",
        "            \n",
        "            if(train_on_gpu):\n",
        "                inputs, targets = inputs.cuda(), targets.cuda()\n",
        "\n",
        "           \n",
        "            h = tuple([each.data for each in h])\n",
        "\n",
        "            \n",
        "            net.zero_grad()\n",
        "            \n",
        "            \n",
        "            output, h = net(inputs, h)\n",
        "            \n",
        "            \n",
        "            loss = criterion(output, targets.view(batch_size*seq_length).long())\n",
        "            loss.backward()\n",
        "            \n",
        "            nn.utils.clip_grad_norm_(net.parameters(), clip)\n",
        "            opt.step()\n",
        "            \n",
        "            # loss stats\n",
        "            if counter % print_every == 0:\n",
        "                # Get validation loss\n",
        "                val_h = net.init_hidden(batch_size)\n",
        "                val_losses = []\n",
        "                net.eval()\n",
        "                for x, y in get_batches(val_data, batch_size, seq_length):\n",
        "                    \n",
        "                    x = one_hot_encode(x, n_chars)\n",
        "                    x, y = torch.from_numpy(x), torch.from_numpy(y)\n",
        "                    \n",
        "                    \n",
        "                    val_h = tuple([each.data for each in val_h])\n",
        "                    \n",
        "                    inputs, targets = x, y\n",
        "                    if(train_on_gpu):\n",
        "                        inputs, targets = inputs.cuda(), targets.cuda()\n",
        "\n",
        "                    output, val_h = net(inputs, val_h)\n",
        "                    val_loss = criterion(output, targets.view(batch_size*seq_length).long())\n",
        "                \n",
        "                    val_losses.append(val_loss.item())\n",
        "                \n",
        "                net.train() \n",
        "                \n",
        "                print(\"Epoch: {}/{}...\".format(e+1, epochs),\n",
        "                      \"Step: {}...\".format(counter),\n",
        "                      \"Loss: {:.4f}...\".format(loss.item()),\n",
        "                      \"Val Loss: {:.4f}\".format(np.mean(val_losses)))"
      ],
      "execution_count": null,
      "outputs": []
    },
    {
      "cell_type": "code",
      "metadata": {
        "id": "91AYaSwqrZL_",
        "colab_type": "code",
        "colab": {
          "base_uri": "https://localhost:8080/",
          "height": 101
        },
        "outputId": "f162cfbb-78cc-464b-ee29-dbc3b24b7fd1"
      },
      "source": [
        "# define and print the net\n",
        "n_hidden=512\n",
        "n_layers=2\n",
        "\n",
        "net = CharRNN(chars, n_hidden, n_layers)\n",
        "print(net)"
      ],
      "execution_count": null,
      "outputs": [
        {
          "output_type": "stream",
          "text": [
            "CharRNN(\n",
            "  (lstm): LSTM(83, 512, num_layers=2, batch_first=True, dropout=0.5)\n",
            "  (dropout): Dropout(p=0.5, inplace=False)\n",
            "  (fc): Linear(in_features=512, out_features=83, bias=True)\n",
            ")\n"
          ],
          "name": "stdout"
        }
      ]
    },
    {
      "cell_type": "code",
      "metadata": {
        "id": "wmpmimHHrbfD",
        "colab_type": "code",
        "colab": {
          "base_uri": "https://localhost:8080/",
          "height": 1000
        },
        "outputId": "f16c2a5f-d4ff-475f-830d-b4892517e987"
      },
      "source": [
        "batch_size = 128\n",
        "seq_length = 100\n",
        "n_epochs = 20 \n",
        "train(net, encoded, epochs=n_epochs, batch_size=batch_size, seq_length=seq_length, lr=0.001, print_every=10)"
      ],
      "execution_count": null,
      "outputs": [
        {
          "output_type": "stream",
          "text": [
            "Epoch: 1/20... Step: 10... Loss: 3.2595... Val Loss: 3.2228\n",
            "Epoch: 1/20... Step: 20... Loss: 3.1524... Val Loss: 3.1431\n",
            "Epoch: 1/20... Step: 30... Loss: 3.1402... Val Loss: 3.1251\n",
            "Epoch: 1/20... Step: 40... Loss: 3.1095... Val Loss: 3.1180\n",
            "Epoch: 1/20... Step: 50... Loss: 3.1369... Val Loss: 3.1154\n",
            "Epoch: 1/20... Step: 60... Loss: 3.1157... Val Loss: 3.1119\n",
            "Epoch: 1/20... Step: 70... Loss: 3.1005... Val Loss: 3.1055\n",
            "Epoch: 1/20... Step: 80... Loss: 3.1013... Val Loss: 3.0920\n",
            "Epoch: 1/20... Step: 90... Loss: 3.0795... Val Loss: 3.0548\n",
            "Epoch: 1/20... Step: 100... Loss: 2.9958... Val Loss: 2.9736\n",
            "Epoch: 1/20... Step: 110... Loss: 3.0341... Val Loss: 2.9525\n",
            "Epoch: 1/20... Step: 120... Loss: 2.8519... Val Loss: 2.8357\n",
            "Epoch: 1/20... Step: 130... Loss: 2.7529... Val Loss: 2.7110\n",
            "Epoch: 2/20... Step: 140... Loss: 2.6542... Val Loss: 2.6009\n",
            "Epoch: 2/20... Step: 150... Loss: 2.5919... Val Loss: 2.5275\n",
            "Epoch: 2/20... Step: 160... Loss: 2.5187... Val Loss: 2.4837\n",
            "Epoch: 2/20... Step: 170... Loss: 2.4592... Val Loss: 2.4387\n",
            "Epoch: 2/20... Step: 180... Loss: 2.4263... Val Loss: 2.4078\n",
            "Epoch: 2/20... Step: 190... Loss: 2.3789... Val Loss: 2.3766\n",
            "Epoch: 2/20... Step: 200... Loss: 2.3865... Val Loss: 2.3556\n",
            "Epoch: 2/20... Step: 210... Loss: 2.3446... Val Loss: 2.3230\n",
            "Epoch: 2/20... Step: 220... Loss: 2.3050... Val Loss: 2.2921\n",
            "Epoch: 2/20... Step: 230... Loss: 2.2936... Val Loss: 2.2632\n",
            "Epoch: 2/20... Step: 240... Loss: 2.2665... Val Loss: 2.2362\n",
            "Epoch: 2/20... Step: 250... Loss: 2.2058... Val Loss: 2.2087\n",
            "Epoch: 2/20... Step: 260... Loss: 2.1838... Val Loss: 2.1814\n",
            "Epoch: 2/20... Step: 270... Loss: 2.1905... Val Loss: 2.1669\n",
            "Epoch: 3/20... Step: 280... Loss: 2.1754... Val Loss: 2.1356\n",
            "Epoch: 3/20... Step: 290... Loss: 2.1490... Val Loss: 2.1126\n",
            "Epoch: 3/20... Step: 300... Loss: 2.1204... Val Loss: 2.0966\n",
            "Epoch: 3/20... Step: 310... Loss: 2.0927... Val Loss: 2.0701\n",
            "Epoch: 3/20... Step: 320... Loss: 2.0615... Val Loss: 2.0544\n",
            "Epoch: 3/20... Step: 330... Loss: 2.0322... Val Loss: 2.0346\n",
            "Epoch: 3/20... Step: 340... Loss: 2.0573... Val Loss: 2.0136\n",
            "Epoch: 3/20... Step: 350... Loss: 2.0327... Val Loss: 1.9967\n",
            "Epoch: 3/20... Step: 360... Loss: 1.9630... Val Loss: 1.9758\n",
            "Epoch: 3/20... Step: 370... Loss: 1.9962... Val Loss: 1.9585\n",
            "Epoch: 3/20... Step: 380... Loss: 1.9631... Val Loss: 1.9442\n",
            "Epoch: 3/20... Step: 390... Loss: 1.9420... Val Loss: 1.9293\n",
            "Epoch: 3/20... Step: 400... Loss: 1.9162... Val Loss: 1.9158\n",
            "Epoch: 3/20... Step: 410... Loss: 1.9287... Val Loss: 1.8995\n",
            "Epoch: 4/20... Step: 420... Loss: 1.9161... Val Loss: 1.8843\n",
            "Epoch: 4/20... Step: 430... Loss: 1.9147... Val Loss: 1.8691\n",
            "Epoch: 4/20... Step: 440... Loss: 1.8852... Val Loss: 1.8619\n",
            "Epoch: 4/20... Step: 450... Loss: 1.8350... Val Loss: 1.8429\n",
            "Epoch: 4/20... Step: 460... Loss: 1.8232... Val Loss: 1.8348\n",
            "Epoch: 4/20... Step: 470... Loss: 1.8519... Val Loss: 1.8210\n",
            "Epoch: 4/20... Step: 480... Loss: 1.8305... Val Loss: 1.8070\n",
            "Epoch: 4/20... Step: 490... Loss: 1.8406... Val Loss: 1.7993\n",
            "Epoch: 4/20... Step: 500... Loss: 1.8360... Val Loss: 1.7876\n",
            "Epoch: 4/20... Step: 510... Loss: 1.8076... Val Loss: 1.7786\n",
            "Epoch: 4/20... Step: 520... Loss: 1.8147... Val Loss: 1.7668\n",
            "Epoch: 4/20... Step: 530... Loss: 1.7875... Val Loss: 1.7586\n",
            "Epoch: 4/20... Step: 540... Loss: 1.7385... Val Loss: 1.7480\n",
            "Epoch: 4/20... Step: 550... Loss: 1.7830... Val Loss: 1.7389\n",
            "Epoch: 5/20... Step: 560... Loss: 1.7522... Val Loss: 1.7286\n",
            "Epoch: 5/20... Step: 570... Loss: 1.7403... Val Loss: 1.7187\n",
            "Epoch: 5/20... Step: 580... Loss: 1.7158... Val Loss: 1.7074\n",
            "Epoch: 5/20... Step: 590... Loss: 1.7202... Val Loss: 1.6982\n",
            "Epoch: 5/20... Step: 600... Loss: 1.7070... Val Loss: 1.6950\n"
          ],
          "name": "stdout"
        }
      ]
    },
    {
      "cell_type": "code",
      "metadata": {
        "id": "Y4H-ciUArdOK",
        "colab_type": "code",
        "colab": {}
      },
      "source": [
        "def predict(net, char, h=None, top_k=None):\n",
        "       \n",
        "        # tensor inputs\n",
        "        x = np.array([[net.char2int[char]]])\n",
        "        x = one_hot_encode(x, len(net.chars))\n",
        "        inputs = torch.from_numpy(x)\n",
        "        \n",
        "        if(train_on_gpu):\n",
        "            inputs = inputs.cuda()\n",
        "        \n",
        "        h = tuple([each.data for each in h])\n",
        "        \n",
        "        out, h = net(inputs, h)\n",
        "\n",
        "       \n",
        "        p = F.softmax(out, dim=1).data\n",
        "        if(train_on_gpu):\n",
        "            p = p.cpu() \n",
        "        if top_k is None:\n",
        "            top_ch = np.arange(len(net.chars))\n",
        "        else:\n",
        "            p, top_ch = p.topk(top_k)\n",
        "            top_ch = top_ch.numpy().squeeze()\n",
        "        \n",
        "        \n",
        "        p = p.numpy().squeeze()\n",
        "        char = np.random.choice(top_ch, p=p/p.sum())\n",
        "        \n",
        "        \n",
        "        return net.int2char[char], h"
      ],
      "execution_count": null,
      "outputs": []
    },
    {
      "cell_type": "code",
      "metadata": {
        "id": "XnfJdfgerjG2",
        "colab_type": "code",
        "colab": {}
      },
      "source": [
        "def sample(net, size, prime='The', top_k=None):\n",
        "        \n",
        "    if(train_on_gpu):\n",
        "        net.cuda()\n",
        "    else:\n",
        "        net.cpu()\n",
        "    \n",
        "    net.eval() \n",
        "    chars = [ch for ch in prime]\n",
        "    h = net.init_hidden(1)\n",
        "    for ch in prime:\n",
        "        char, h = predict(net, ch, h, top_k=top_k)\n",
        "\n",
        "    chars.append(char)\n",
        "    \n",
        "   \n",
        "    for ii in range(size):\n",
        "        char, h = predict(net, chars[-1], h, top_k=top_k)\n",
        "        chars.append(char)\n",
        "\n",
        "    return ''.join(chars)"
      ],
      "execution_count": null,
      "outputs": []
    },
    {
      "cell_type": "code",
      "metadata": {
        "id": "Ih0tcX0_rmFa",
        "colab_type": "code",
        "colab": {}
      },
      "source": [
        "print(sample(net, 1000, prime='Anna', top_k=5))"
      ],
      "execution_count": null,
      "outputs": []
    },
    {
      "cell_type": "code",
      "metadata": {
        "id": "LzV-7wXrroVn",
        "colab_type": "code",
        "colab": {}
      },
      "source": [
        ""
      ],
      "execution_count": null,
      "outputs": []
    }
  ]
}