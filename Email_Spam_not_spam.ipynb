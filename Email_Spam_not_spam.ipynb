{
  "nbformat": 4,
  "nbformat_minor": 0,
  "metadata": {
    "colab": {
      "name": "Email_Spam_not_spam.ipynb",
      "provenance": [],
      "mount_file_id": "1ZJQVtrfFsIi2oJnfhi3lxQx6wxrUPC-q",
      "authorship_tag": "ABX9TyOspTePVES2vm5+w/n71lqT",
      "include_colab_link": true
    },
    "kernelspec": {
      "name": "python3",
      "display_name": "Python 3"
    },
    "accelerator": "GPU",
    "widgets": {
      "application/vnd.jupyter.widget-state+json": {
        "52231551e17b42c68cb1e1084645a3be": {
          "model_module": "@jupyter-widgets/controls",
          "model_name": "HBoxModel",
          "state": {
            "_view_name": "HBoxView",
            "_dom_classes": [],
            "_model_name": "HBoxModel",
            "_view_module": "@jupyter-widgets/controls",
            "_model_module_version": "1.5.0",
            "_view_count": null,
            "_view_module_version": "1.5.0",
            "box_style": "",
            "layout": "IPY_MODEL_6ba0c893b1e443f69dd3a2209c101b0a",
            "_model_module": "@jupyter-widgets/controls",
            "children": [
              "IPY_MODEL_25bb5e321df74b01a82cd62d2744a7b9",
              "IPY_MODEL_6ee0ba550ce34e659327a64fac9c1e28"
            ]
          }
        },
        "6ba0c893b1e443f69dd3a2209c101b0a": {
          "model_module": "@jupyter-widgets/base",
          "model_name": "LayoutModel",
          "state": {
            "_view_name": "LayoutView",
            "grid_template_rows": null,
            "right": null,
            "justify_content": null,
            "_view_module": "@jupyter-widgets/base",
            "overflow": null,
            "_model_module_version": "1.2.0",
            "_view_count": null,
            "flex_flow": null,
            "width": null,
            "min_width": null,
            "border": null,
            "align_items": null,
            "bottom": null,
            "_model_module": "@jupyter-widgets/base",
            "top": null,
            "grid_column": null,
            "overflow_y": null,
            "overflow_x": null,
            "grid_auto_flow": null,
            "grid_area": null,
            "grid_template_columns": null,
            "flex": null,
            "_model_name": "LayoutModel",
            "justify_items": null,
            "grid_row": null,
            "max_height": null,
            "align_content": null,
            "visibility": null,
            "align_self": null,
            "height": null,
            "min_height": null,
            "padding": null,
            "grid_auto_rows": null,
            "grid_gap": null,
            "max_width": null,
            "order": null,
            "_view_module_version": "1.2.0",
            "grid_template_areas": null,
            "object_position": null,
            "object_fit": null,
            "grid_auto_columns": null,
            "margin": null,
            "display": null,
            "left": null
          }
        },
        "25bb5e321df74b01a82cd62d2744a7b9": {
          "model_module": "@jupyter-widgets/controls",
          "model_name": "FloatProgressModel",
          "state": {
            "_view_name": "ProgressView",
            "style": "IPY_MODEL_5736555969264706ae5a46b46f7f1a85",
            "_dom_classes": [],
            "description": "Reading GloVe: ",
            "_model_name": "FloatProgressModel",
            "bar_style": "success",
            "max": 1,
            "_view_module": "@jupyter-widgets/controls",
            "_model_module_version": "1.5.0",
            "value": 1,
            "_view_count": null,
            "_view_module_version": "1.5.0",
            "orientation": "horizontal",
            "min": 0,
            "description_tooltip": null,
            "_model_module": "@jupyter-widgets/controls",
            "layout": "IPY_MODEL_16b0e92465cd48a29e7ee5aa54e4cfa2"
          }
        },
        "6ee0ba550ce34e659327a64fac9c1e28": {
          "model_module": "@jupyter-widgets/controls",
          "model_name": "HTMLModel",
          "state": {
            "_view_name": "HTMLView",
            "style": "IPY_MODEL_1890d25be7a74e38a169802528384ce6",
            "_dom_classes": [],
            "description": "",
            "_model_name": "HTMLModel",
            "placeholder": "​",
            "_view_module": "@jupyter-widgets/controls",
            "_model_module_version": "1.5.0",
            "value": " 400000/? [02:55&lt;00:00, 2280.95it/s]",
            "_view_count": null,
            "_view_module_version": "1.5.0",
            "description_tooltip": null,
            "_model_module": "@jupyter-widgets/controls",
            "layout": "IPY_MODEL_746e9464f8da40e1b0616e16485dcd86"
          }
        },
        "5736555969264706ae5a46b46f7f1a85": {
          "model_module": "@jupyter-widgets/controls",
          "model_name": "ProgressStyleModel",
          "state": {
            "_view_name": "StyleView",
            "_model_name": "ProgressStyleModel",
            "description_width": "initial",
            "_view_module": "@jupyter-widgets/base",
            "_model_module_version": "1.5.0",
            "_view_count": null,
            "_view_module_version": "1.2.0",
            "bar_color": null,
            "_model_module": "@jupyter-widgets/controls"
          }
        },
        "16b0e92465cd48a29e7ee5aa54e4cfa2": {
          "model_module": "@jupyter-widgets/base",
          "model_name": "LayoutModel",
          "state": {
            "_view_name": "LayoutView",
            "grid_template_rows": null,
            "right": null,
            "justify_content": null,
            "_view_module": "@jupyter-widgets/base",
            "overflow": null,
            "_model_module_version": "1.2.0",
            "_view_count": null,
            "flex_flow": null,
            "width": null,
            "min_width": null,
            "border": null,
            "align_items": null,
            "bottom": null,
            "_model_module": "@jupyter-widgets/base",
            "top": null,
            "grid_column": null,
            "overflow_y": null,
            "overflow_x": null,
            "grid_auto_flow": null,
            "grid_area": null,
            "grid_template_columns": null,
            "flex": null,
            "_model_name": "LayoutModel",
            "justify_items": null,
            "grid_row": null,
            "max_height": null,
            "align_content": null,
            "visibility": null,
            "align_self": null,
            "height": null,
            "min_height": null,
            "padding": null,
            "grid_auto_rows": null,
            "grid_gap": null,
            "max_width": null,
            "order": null,
            "_view_module_version": "1.2.0",
            "grid_template_areas": null,
            "object_position": null,
            "object_fit": null,
            "grid_auto_columns": null,
            "margin": null,
            "display": null,
            "left": null
          }
        },
        "1890d25be7a74e38a169802528384ce6": {
          "model_module": "@jupyter-widgets/controls",
          "model_name": "DescriptionStyleModel",
          "state": {
            "_view_name": "StyleView",
            "_model_name": "DescriptionStyleModel",
            "description_width": "",
            "_view_module": "@jupyter-widgets/base",
            "_model_module_version": "1.5.0",
            "_view_count": null,
            "_view_module_version": "1.2.0",
            "_model_module": "@jupyter-widgets/controls"
          }
        },
        "746e9464f8da40e1b0616e16485dcd86": {
          "model_module": "@jupyter-widgets/base",
          "model_name": "LayoutModel",
          "state": {
            "_view_name": "LayoutView",
            "grid_template_rows": null,
            "right": null,
            "justify_content": null,
            "_view_module": "@jupyter-widgets/base",
            "overflow": null,
            "_model_module_version": "1.2.0",
            "_view_count": null,
            "flex_flow": null,
            "width": null,
            "min_width": null,
            "border": null,
            "align_items": null,
            "bottom": null,
            "_model_module": "@jupyter-widgets/base",
            "top": null,
            "grid_column": null,
            "overflow_y": null,
            "overflow_x": null,
            "grid_auto_flow": null,
            "grid_area": null,
            "grid_template_columns": null,
            "flex": null,
            "_model_name": "LayoutModel",
            "justify_items": null,
            "grid_row": null,
            "max_height": null,
            "align_content": null,
            "visibility": null,
            "align_self": null,
            "height": null,
            "min_height": null,
            "padding": null,
            "grid_auto_rows": null,
            "grid_gap": null,
            "max_width": null,
            "order": null,
            "_view_module_version": "1.2.0",
            "grid_template_areas": null,
            "object_position": null,
            "object_fit": null,
            "grid_auto_columns": null,
            "margin": null,
            "display": null,
            "left": null
          }
        }
      }
    }
  },
  "cells": [
    {
      "cell_type": "markdown",
      "metadata": {
        "id": "view-in-github",
        "colab_type": "text"
      },
      "source": [
        "<a href=\"https://colab.research.google.com/github/princetyagitech/NLP/blob/master/Email_Spam_not_spam.ipynb\" target=\"_parent\"><img src=\"https://colab.research.google.com/assets/colab-badge.svg\" alt=\"Open In Colab\"/></a>"
      ]
    },
    {
      "cell_type": "code",
      "metadata": {
        "id": "bRoJbA5DF_Qx",
        "colab_type": "code",
        "colab": {
          "base_uri": "https://localhost:8080/",
          "height": 34
        },
        "outputId": "6500f568-c7d2-4538-a609-a4296757910b"
      },
      "source": [
        "%ls"
      ],
      "execution_count": 2,
      "outputs": [
        {
          "output_type": "stream",
          "text": [
            "\u001b[0m\u001b[01;34mdrive\u001b[0m/  \u001b[01;34msample_data\u001b[0m/\n"
          ],
          "name": "stdout"
        }
      ]
    },
    {
      "cell_type": "code",
      "metadata": {
        "id": "iRmdblmZGWwv",
        "colab_type": "code",
        "colab": {
          "base_uri": "https://localhost:8080/",
          "height": 34
        },
        "outputId": "c9195af0-897b-4d2e-f1e6-5c76bd8c5702"
      },
      "source": [
        "% cd /content/drive/My Drive/Spam_Not_Spam"
      ],
      "execution_count": 3,
      "outputs": [
        {
          "output_type": "stream",
          "text": [
            "/content/drive/My Drive/Spam_Not_Spam\n"
          ],
          "name": "stdout"
        }
      ]
    },
    {
      "cell_type": "code",
      "metadata": {
        "id": "cziGEnNyGZjD",
        "colab_type": "code",
        "colab": {
          "base_uri": "https://localhost:8080/",
          "height": 118
        },
        "outputId": "e6cc31ae-a6a5-43e3-9eb7-f871bc384c2f"
      },
      "source": [
        "! git clone https://github.com/gognjanovski/SpamFilterMachineLearning"
      ],
      "execution_count": 5,
      "outputs": [
        {
          "output_type": "stream",
          "text": [
            "Cloning into 'SpamFilterMachineLearning'...\n",
            "remote: Enumerating objects: 978, done.\u001b[K\n",
            "remote: Total 978 (delta 0), reused 0 (delta 0), pack-reused 978\u001b[K\n",
            "Receiving objects: 100% (978/978), 942.33 KiB | 882.00 KiB/s, done.\n",
            "Resolving deltas: 100% (15/15), done.\n",
            "Checking out files: 100% (971/971), done.\n"
          ],
          "name": "stdout"
        }
      ]
    },
    {
      "cell_type": "code",
      "metadata": {
        "id": "3-0w8lTSGeJb",
        "colab_type": "code",
        "colab": {
          "base_uri": "https://localhost:8080/",
          "height": 34
        },
        "outputId": "a50be4ca-6d06-4594-9c4a-837a3fd94b7a"
      },
      "source": [
        "% cd /content/drive/My Drive/Spam_Not_Spam/SpamFilterMachineLearning/data"
      ],
      "execution_count": 6,
      "outputs": [
        {
          "output_type": "stream",
          "text": [
            "/content/drive/My Drive/Spam_Not_Spam/SpamFilterMachineLearning/data\n"
          ],
          "name": "stdout"
        }
      ]
    },
    {
      "cell_type": "markdown",
      "metadata": {
        "id": "1CSm1rRsPPOZ",
        "colab_type": "text"
      },
      "source": [
        "# Loading Data"
      ]
    },
    {
      "cell_type": "code",
      "metadata": {
        "id": "Vv7WvaxqG-bT",
        "colab_type": "code",
        "colab": {}
      },
      "source": [
        "import os\n",
        "import glob\n",
        "import numpy as np\n",
        "import email\n",
        "import re\n",
        "import string\n",
        "from nltk.tokenize import word_tokenize"
      ],
      "execution_count": 1,
      "outputs": []
    },
    {
      "cell_type": "code",
      "metadata": {
        "id": "hPsYFpFWHLKW",
        "colab_type": "code",
        "colab": {}
      },
      "source": [
        "path='/content/drive/My Drive/Spam_Not_Spam/SpamFilterMachineLearning/data/'"
      ],
      "execution_count": 2,
      "outputs": []
    },
    {
      "cell_type": "code",
      "metadata": {
        "id": "vO30evdPHQ-E",
        "colab_type": "code",
        "colab": {}
      },
      "source": [
        "nonspam_test= '/content/drive/My Drive/Spam_Not_Spam/SpamFilterMachineLearning/data/nonspam_test'\n",
        "nonspam_train= '/content/drive/My Drive/Spam_Not_Spam/SpamFilterMachineLearning/data/nonspam_train'\n",
        "spam_test= '/content/drive/My Drive/Spam_Not_Spam/SpamFilterMachineLearning/data/spam_test'\n",
        "spam_train= '/content/drive/My Drive/Spam_Not_Spam/SpamFilterMachineLearning/data/spam_train'"
      ],
      "execution_count": 3,
      "outputs": []
    },
    {
      "cell_type": "code",
      "metadata": {
        "id": "e-krGUbvI1Yn",
        "colab_type": "code",
        "colab": {}
      },
      "source": [
        "spam_paths=[spam_test,spam_train]\n",
        "nonspam_paths=[nonspam_test,nonspam_train]"
      ],
      "execution_count": 4,
      "outputs": []
    },
    {
      "cell_type": "code",
      "metadata": {
        "id": "K0WdwD91GwBm",
        "colab_type": "code",
        "colab": {}
      },
      "source": [
        "def load_data():\n",
        "  # loading spam_data\n",
        "  data_spam_train=np.array([])\n",
        "  data_spam_test=np.array([])\n",
        "  for path_file in os.listdir(spam_train):\n",
        "    tot_path=spam_train+'/'+path_file\n",
        "    with open(tot_path) as f:\n",
        "      a=f.readlines()\n",
        "    data_spam_train=np.concatenate((data_spam_train,a),axis=0)\n",
        "\n",
        "  for path_file in os.listdir(spam_test):\n",
        "    tot_path=spam_test+'/'+path_file\n",
        "    with open(tot_path) as f:\n",
        "      a=f.readlines()\n",
        "    data_spam_test=np.concatenate((data_spam_test,a),axis=0)\n",
        "\n",
        "  # Loading Non_spam_data\n",
        "  data_nonspam_train=np.array([])\n",
        "  data_nonspam_test=np.array([])\n",
        "  for path_file in os.listdir(nonspam_train):\n",
        "    tot_path=nonspam_train+'/'+path_file\n",
        "    with open(tot_path) as f:\n",
        "      a=f.readlines()\n",
        "    data_nonspam_train=np.concatenate((data_nonspam_train,a),axis=0)\n",
        "\n",
        "\n",
        "  for path_file in os.listdir(nonspam_test):\n",
        "    tot_path=nonspam_test+'/'+path_file\n",
        "    with open(tot_path) as f:\n",
        "      a=f.readlines()\n",
        "    data_nonspam_test=np.concatenate((data_nonspam_test,a),axis=0)\n",
        "\n",
        "  return data_spam_train,data_nonspam_train,data_spam_test,data_nonspam_test\n",
        "  "
      ],
      "execution_count": 5,
      "outputs": []
    },
    {
      "cell_type": "code",
      "metadata": {
        "id": "NG4_1NPXMKD1",
        "colab_type": "code",
        "colab": {}
      },
      "source": [
        "data_spam_train,data_nonspam_train,data_spam_test,data_nonspam_test=load_data()"
      ],
      "execution_count": 6,
      "outputs": []
    },
    {
      "cell_type": "code",
      "metadata": {
        "id": "Cwi5_ypEMOtP",
        "colab_type": "code",
        "colab": {
          "base_uri": "https://localhost:8080/",
          "height": 34
        },
        "outputId": "27052f52-8365-44f1-bad9-f4d46f4bbbe7"
      },
      "source": [
        "data_spam_train.shape,data_nonspam_train.shape,data_spam_test.shape,data_nonspam_test.shape"
      ],
      "execution_count": 7,
      "outputs": [
        {
          "output_type": "execute_result",
          "data": {
            "text/plain": [
              "((350,), (350,), (130,), (130,))"
            ]
          },
          "metadata": {
            "tags": []
          },
          "execution_count": 7
        }
      ]
    },
    {
      "cell_type": "code",
      "metadata": {
        "id": "xAYHBcK0MzqQ",
        "colab_type": "code",
        "colab": {}
      },
      "source": [
        "nonspam_train_label = [0]*data_nonspam_train.shape[0]\n",
        "spam_train_label = [1]*data_spam_train.shape[0]\n",
        "x_train = np.concatenate((data_nonspam_train,data_spam_train))\n",
        "y_train = np.concatenate((nonspam_train_label,spam_train_label))"
      ],
      "execution_count": 8,
      "outputs": []
    },
    {
      "cell_type": "code",
      "metadata": {
        "id": "oCQoyfLiNaEL",
        "colab_type": "code",
        "colab": {}
      },
      "source": [
        "nonspam_test_label = [0]*data_nonspam_test.shape[0]\n",
        "spam_test_label = [1]*data_spam_test.shape[0]\n",
        "x_test = np.concatenate((data_nonspam_test,data_spam_test))\n",
        "y_test = np.concatenate((nonspam_test_label,spam_test_label))"
      ],
      "execution_count": 9,
      "outputs": []
    },
    {
      "cell_type": "code",
      "metadata": {
        "id": "tN2tYA92VWam",
        "colab_type": "code",
        "colab": {}
      },
      "source": [
        "train_shuffle_index = np.random.permutation(np.arange(0,x_train.shape[0]))\n",
        "test_shuffle_index = np.random.permutation(np.arange(0,x_test.shape[0]))"
      ],
      "execution_count": 10,
      "outputs": []
    },
    {
      "cell_type": "code",
      "metadata": {
        "id": "EOCbq7ekVYfv",
        "colab_type": "code",
        "colab": {}
      },
      "source": [
        "x_train = x_train[train_shuffle_index]\n",
        "y_train = y_train[train_shuffle_index]"
      ],
      "execution_count": 11,
      "outputs": []
    },
    {
      "cell_type": "code",
      "metadata": {
        "id": "OCOGzsBDVab1",
        "colab_type": "code",
        "colab": {}
      },
      "source": [
        "x_test = x_test[test_shuffle_index]\n",
        "y_test = y_test[test_shuffle_index]"
      ],
      "execution_count": null,
      "outputs": []
    },
    {
      "cell_type": "markdown",
      "metadata": {
        "id": "79TFoP0OPTVR",
        "colab_type": "text"
      },
      "source": [
        "# Preprocessing Data\n",
        "I am going to perform following preprocessing steps :\n",
        "\n",
        "1. Lower words\n",
        "2. Remove Numbers\n",
        "3. Removing hyperlink\n",
        "4. Replace_newline\n",
        "5. Removing punctuations and whitespaces"
      ]
    },
    {
      "cell_type": "code",
      "metadata": {
        "id": "pwG9vaJpOF3E",
        "colab_type": "code",
        "colab": {}
      },
      "source": [
        "def precoess_text(sentence):\n",
        "  new_sent=re.sub(r\"http\\S+\", \"\", sentence)\n",
        "  new_sent = new_sent.lower()\n",
        "  new_sent = re.sub(r'\\d+', '', new_sent)\n",
        "  new_sent = new_sent.translate(str.maketrans(dict.fromkeys(string.punctuation)))\n",
        "  new_sent = new_sent.strip()\n",
        "  new_sent=new_sent.replace('\\n','')\n",
        "\n",
        "  return new_sent"
      ],
      "execution_count": 12,
      "outputs": []
    },
    {
      "cell_type": "code",
      "metadata": {
        "id": "D-AW2SyNQmcm",
        "colab_type": "code",
        "colab": {}
      },
      "source": [
        "x_train = [precoess_text(sent) for sent in x_train]\n",
        "x_test = [precoess_text(sent) for sent in x_test]"
      ],
      "execution_count": 13,
      "outputs": []
    },
    {
      "cell_type": "markdown",
      "metadata": {
        "id": "A-Xq121xRHEW",
        "colab_type": "text"
      },
      "source": [
        "# Usig Stemmization,lemmitizer ,removing stop words"
      ]
    },
    {
      "cell_type": "code",
      "metadata": {
        "id": "KJRoFPclQo-N",
        "colab_type": "code",
        "colab": {
          "base_uri": "https://localhost:8080/",
          "height": 70
        },
        "outputId": "b1a82a89-8081-493e-f5f1-03cb7ca29db9"
      },
      "source": [
        "from nltk.tokenize import word_tokenize\n",
        "from sklearn.feature_extraction.stop_words import ENGLISH_STOP_WORDS\n",
        "from nltk.stem import PorterStemmer\n",
        "from nltk.stem import WordNetLemmatizer"
      ],
      "execution_count": 14,
      "outputs": [
        {
          "output_type": "stream",
          "text": [
            "/usr/local/lib/python3.6/dist-packages/sklearn/utils/deprecation.py:144: FutureWarning: The sklearn.feature_extraction.stop_words module is  deprecated in version 0.22 and will be removed in version 0.24. The corresponding classes / functions should instead be imported from sklearn.feature_extraction.text. Anything that cannot be imported from sklearn.feature_extraction.text is now part of the private API.\n",
            "  warnings.warn(message, FutureWarning)\n"
          ],
          "name": "stderr"
        }
      ]
    },
    {
      "cell_type": "code",
      "metadata": {
        "id": "y7cSNaRlR-86",
        "colab_type": "code",
        "colab": {
          "base_uri": "https://localhost:8080/",
          "height": 67
        },
        "outputId": "a99fcac8-05d6-4d2b-feb6-9032462e484c"
      },
      "source": [
        "import nltk\n",
        "nltk.download('wordnet')"
      ],
      "execution_count": 15,
      "outputs": [
        {
          "output_type": "stream",
          "text": [
            "[nltk_data] Downloading package wordnet to /root/nltk_data...\n",
            "[nltk_data]   Unzipping corpora/wordnet.zip.\n"
          ],
          "name": "stdout"
        },
        {
          "output_type": "execute_result",
          "data": {
            "text/plain": [
              "True"
            ]
          },
          "metadata": {
            "tags": []
          },
          "execution_count": 15
        }
      ]
    },
    {
      "cell_type": "code",
      "metadata": {
        "id": "LT0TzUYNRMwG",
        "colab_type": "code",
        "colab": {}
      },
      "source": [
        "def next_preprocess(sentence):\n",
        "  stemmer = PorterStemmer()\n",
        "  lemmatizer = WordNetLemmatizer()\n",
        "  # Removing Stop words\n",
        "  new_sent = [i for i in sentence if i not in ENGLISH_STOP_WORDS]\n",
        "\n",
        "  # Stemming\n",
        "  new_sent=[stemmer.stem(word) for word in new_sent]\n",
        "\n",
        "  #Lemmitizer\n",
        "  new_sent=[lemmatizer.lemmatize(word) for word in new_sent]\n",
        "\n",
        "  return new_sent"
      ],
      "execution_count": 16,
      "outputs": []
    },
    {
      "cell_type": "code",
      "metadata": {
        "id": "oC5VrhtxRr89",
        "colab_type": "code",
        "colab": {}
      },
      "source": [
        "x_train = [next_preprocess(sent) for sent in x_train]\n",
        "x_test = [next_preprocess(sent) for sent in x_test]"
      ],
      "execution_count": 17,
      "outputs": []
    },
    {
      "cell_type": "markdown",
      "metadata": {
        "id": "-3qvM9iBTF-c",
        "colab_type": "text"
      },
      "source": [
        "# Model"
      ]
    },
    {
      "cell_type": "code",
      "metadata": {
        "id": "VMp5SPeiSf1k",
        "colab_type": "code",
        "colab": {}
      },
      "source": [
        "\n",
        "import matplotlib.pyplot as plt\n",
        "from keras.preprocessing.text import Tokenizer\n",
        "from keras.preprocessing.sequence import pad_sequences\n",
        "from keras.layers import Dense, Input, LSTM, Embedding, Dropout, Activation, Conv1D\n",
        "from keras.layers import Bidirectional, GlobalMaxPool1D,GRU\n",
        "from keras.models import Model\n",
        "from keras import initializers, regularizers, constraints, optimizers, layers"
      ],
      "execution_count": 60,
      "outputs": []
    },
    {
      "cell_type": "code",
      "metadata": {
        "id": "k9Q5lzvoTHLS",
        "colab_type": "code",
        "colab": {}
      },
      "source": [
        "maxlen = 2000\n",
        "max_features = 50000"
      ],
      "execution_count": 20,
      "outputs": []
    },
    {
      "cell_type": "code",
      "metadata": {
        "id": "IVgNSSNTUM9c",
        "colab_type": "code",
        "colab": {}
      },
      "source": [
        "EMBEDDING_FILE = '/content/drive/My Drive/Image_captioning/glove/glove.6B.200d.txt'\n",
        "tokenizer = Tokenizer(num_words=max_features)"
      ],
      "execution_count": 21,
      "outputs": []
    },
    {
      "cell_type": "code",
      "metadata": {
        "id": "EELWE3cZUQ0U",
        "colab_type": "code",
        "colab": {}
      },
      "source": [
        "tokenizer.fit_on_texts(x_train)"
      ],
      "execution_count": 22,
      "outputs": []
    },
    {
      "cell_type": "code",
      "metadata": {
        "id": "xwDLH9ShUakm",
        "colab_type": "code",
        "colab": {}
      },
      "source": [
        "\n",
        "x_train_features = np.array(tokenizer.texts_to_sequences(x_train))\n",
        "x_test_features = np.array(tokenizer.texts_to_sequences(x_test))\n",
        "\n",
        "x_train_features = pad_sequences(x_train_features,maxlen=maxlen)\n",
        "x_test_features = pad_sequences(x_test_features,maxlen=maxlen)"
      ],
      "execution_count": 23,
      "outputs": []
    },
    {
      "cell_type": "code",
      "metadata": {
        "id": "AskqIIeVUetA",
        "colab_type": "code",
        "colab": {
          "base_uri": "https://localhost:8080/",
          "height": 70
        },
        "outputId": "053bcab3-aa2e-4f15-e129-ad5109f06fff"
      },
      "source": [
        "def get_coefs(word,*arr): return word, np.asarray(arr, dtype='float32')\n",
        "embeddings_index = dict(get_coefs(*o.split(\" \")) for o in open(EMBEDDING_FILE))\n",
        "\n",
        "all_embs = np.stack(embeddings_index.values())\n",
        "emb_mean,emb_std = all_embs.mean(), all_embs.std()\n",
        "embed_size = all_embs.shape[1]"
      ],
      "execution_count": 24,
      "outputs": [
        {
          "output_type": "stream",
          "text": [
            "/usr/local/lib/python3.6/dist-packages/IPython/core/interactiveshell.py:2822: FutureWarning: arrays to stack must be passed as a \"sequence\" type such as list or tuple. Support for non-sequence iterables such as generators is deprecated as of NumPy 1.16 and will raise an error in the future.\n",
            "  if self.run_code(code, result):\n"
          ],
          "name": "stderr"
        }
      ]
    },
    {
      "cell_type": "code",
      "metadata": {
        "id": "ryRc4ywVd6Xx",
        "colab_type": "code",
        "colab": {
          "base_uri": "https://localhost:8080/",
          "height": 34
        },
        "outputId": "6b63a378-6c1d-4cd4-ee54-f140f8bb235b"
      },
      "source": [
        "!pip install tqdm\n",
        "from tqdm.notebook import tqdm\n"
      ],
      "execution_count": 50,
      "outputs": [
        {
          "output_type": "stream",
          "text": [
            "Requirement already satisfied: tqdm in /usr/local/lib/python3.6/dist-packages (4.41.1)\n"
          ],
          "name": "stdout"
        }
      ]
    },
    {
      "cell_type": "code",
      "metadata": {
        "id": "qgIHIdsWdWUX",
        "colab_type": "code",
        "colab": {}
      },
      "source": [
        "def get_embedding_vectors(tokenizer, dim=200):\n",
        "    \n",
        "    embedding_index = {}\n",
        "    with open(f\"/content/drive/My Drive/Image_captioning/glove/glove.6B.200d.txt\", encoding='utf8') as f:\n",
        "        for line in tqdm(f, \"Reading GloVe\"):\n",
        "            values = line.split()\n",
        "            word = values[0]\n",
        "            vectors = np.asarray(values[1:], dtype='float32')\n",
        "            embedding_index[word] = vectors\n",
        "\n",
        "    word_index = tokenizer.word_index\n",
        "    embedding_matrix = np.zeros((len(word_index)+1, dim))\n",
        "    for word, i in word_index.items():\n",
        "        embedding_vector = embedding_index.get(word)\n",
        "        if embedding_vector is not None:\n",
        "            # words not found will be 0s\n",
        "            embedding_matrix[i] = embedding_vector\n",
        "            \n",
        "    return embedding_matrix"
      ],
      "execution_count": 53,
      "outputs": []
    },
    {
      "cell_type": "code",
      "metadata": {
        "id": "dkCm81Lidhle",
        "colab_type": "code",
        "colab": {
          "base_uri": "https://localhost:8080/",
          "height": 66,
          "referenced_widgets": [
            "52231551e17b42c68cb1e1084645a3be",
            "6ba0c893b1e443f69dd3a2209c101b0a",
            "25bb5e321df74b01a82cd62d2744a7b9",
            "6ee0ba550ce34e659327a64fac9c1e28",
            "5736555969264706ae5a46b46f7f1a85",
            "16b0e92465cd48a29e7ee5aa54e4cfa2",
            "1890d25be7a74e38a169802528384ce6",
            "746e9464f8da40e1b0616e16485dcd86"
          ]
        },
        "outputId": "7b58baac-7c46-4ea3-928b-301b2b0c92b1"
      },
      "source": [
        "embedding_matrix = get_embedding_vectors(tokenizer)"
      ],
      "execution_count": 54,
      "outputs": [
        {
          "output_type": "display_data",
          "data": {
            "application/vnd.jupyter.widget-view+json": {
              "model_id": "52231551e17b42c68cb1e1084645a3be",
              "version_minor": 0,
              "version_major": 2
            },
            "text/plain": [
              "HBox(children=(FloatProgress(value=1.0, bar_style='info', description='Reading GloVe', max=1.0, style=Progress…"
            ]
          },
          "metadata": {
            "tags": []
          }
        },
        {
          "output_type": "stream",
          "text": [
            "\n"
          ],
          "name": "stdout"
        }
      ]
    },
    {
      "cell_type": "code",
      "metadata": {
        "id": "fC_YSEtxfIp5",
        "colab_type": "code",
        "colab": {}
      },
      "source": [
        "EMBEDDING_SIZE=200\n",
        "SEQUENCE_LENGTH = 100"
      ],
      "execution_count": 58,
      "outputs": []
    },
    {
      "cell_type": "code",
      "metadata": {
        "id": "rnEqLE9TUgxN",
        "colab_type": "code",
        "colab": {
          "base_uri": "https://localhost:8080/",
          "height": 406
        },
        "outputId": "03523ce7-3662-442f-c261-f77891a19955"
      },
      "source": [
        "word_index = tokenizer.word_index\n",
        "nb_words = min(max_features, len(word_index)+1)\n",
        "\n",
        "inp = Input(shape=(maxlen,))\n",
        "\n",
        "x=Embedding(len(tokenizer.word_index)+1,\n",
        "              EMBEDDING_SIZE,\n",
        "              weights=[embedding_matrix],\n",
        "              trainable=False,\n",
        "              input_length=SEQUENCE_LENGTH)(inp)\n",
        "\n",
        "x = GRU(64, recurrent_dropout=0.2,return_sequences=False)(x)\n",
        "x = Dense(32, activation=\"relu\")(x)\n",
        "x = Dropout(0.4)(x)\n",
        "x = Dense(1, activation=\"sigmoid\")(x)\n",
        "model = Model(inputs=inp, outputs=x)\n",
        "model.compile(loss='binary_crossentropy', optimizer='adam', metrics=['accuracy'])\n",
        "print(model.summary())"
      ],
      "execution_count": 72,
      "outputs": [
        {
          "output_type": "stream",
          "text": [
            "WARNING:tensorflow:Layer gru_5 will not use cuDNN kernel since it doesn't meet the cuDNN kernel criteria. It will use generic GPU kernel as fallback when running on GPU\n",
            "Model: \"functional_3\"\n",
            "_________________________________________________________________\n",
            "Layer (type)                 Output Shape              Param #   \n",
            "=================================================================\n",
            "input_18 (InputLayer)        [(None, 2000)]            0         \n",
            "_________________________________________________________________\n",
            "embedding_16 (Embedding)     (None, 2000, 200)         5200      \n",
            "_________________________________________________________________\n",
            "gru_5 (GRU)                  (None, 64)                51072     \n",
            "_________________________________________________________________\n",
            "dense_1 (Dense)              (None, 32)                2080      \n",
            "_________________________________________________________________\n",
            "dropout_1 (Dropout)          (None, 32)                0         \n",
            "_________________________________________________________________\n",
            "dense_2 (Dense)              (None, 1)                 33        \n",
            "=================================================================\n",
            "Total params: 58,385\n",
            "Trainable params: 53,185\n",
            "Non-trainable params: 5,200\n",
            "_________________________________________________________________\n",
            "None\n"
          ],
          "name": "stdout"
        }
      ]
    },
    {
      "cell_type": "code",
      "metadata": {
        "id": "WIKB0FKXUjJ2",
        "colab_type": "code",
        "colab": {}
      },
      "source": [
        "model.layers[1].trainable = False"
      ],
      "execution_count": 73,
      "outputs": []
    },
    {
      "cell_type": "code",
      "metadata": {
        "id": "FaikKGufUk3d",
        "colab_type": "code",
        "colab": {
          "base_uri": "https://localhost:8080/",
          "height": 554
        },
        "outputId": "58a193d1-1504-430c-d001-c12dfc0d5a80"
      },
      "source": [
        "history = model.fit(x_train_features,y_train, batch_size=512, epochs=20, \n",
        "          validation_data=(x_test_features, y_test))"
      ],
      "execution_count": null,
      "outputs": [
        {
          "output_type": "stream",
          "text": [
            "Epoch 1/20\n",
            "2/2 [==============================] - 6s 3s/step - loss: 0.6940 - accuracy: 0.5557 - val_loss: 0.6726 - val_accuracy: 0.6000\n",
            "Epoch 2/20\n",
            "2/2 [==============================] - 6s 3s/step - loss: 0.6778 - accuracy: 0.5800 - val_loss: 0.6648 - val_accuracy: 0.6269\n",
            "Epoch 3/20\n",
            "2/2 [==============================] - 6s 3s/step - loss: 0.6764 - accuracy: 0.5500 - val_loss: 0.6595 - val_accuracy: 0.5885\n",
            "Epoch 4/20\n",
            "2/2 [==============================] - 6s 3s/step - loss: 0.6607 - accuracy: 0.5900 - val_loss: 0.6526 - val_accuracy: 0.5769\n",
            "Epoch 5/20\n",
            "2/2 [==============================] - 6s 3s/step - loss: 0.6560 - accuracy: 0.6157 - val_loss: 0.6467 - val_accuracy: 0.6077\n",
            "Epoch 6/20\n",
            "2/2 [==============================] - 6s 3s/step - loss: 0.6537 - accuracy: 0.5929 - val_loss: 0.6433 - val_accuracy: 0.6115\n",
            "Epoch 7/20\n",
            "2/2 [==============================] - 6s 3s/step - loss: 0.6371 - accuracy: 0.6457 - val_loss: 0.6405 - val_accuracy: 0.6115\n",
            "Epoch 8/20\n",
            "2/2 [==============================] - 6s 3s/step - loss: 0.6337 - accuracy: 0.6386 - val_loss: 0.6365 - val_accuracy: 0.6192\n",
            "Epoch 9/20\n",
            "2/2 [==============================] - 6s 3s/step - loss: 0.6234 - accuracy: 0.6586 - val_loss: 0.6324 - val_accuracy: 0.5808\n",
            "Epoch 10/20\n",
            "2/2 [==============================] - 6s 3s/step - loss: 0.6324 - accuracy: 0.6400 - val_loss: 0.6300 - val_accuracy: 0.6192\n",
            "Epoch 11/20\n",
            "2/2 [==============================] - 6s 3s/step - loss: 0.6142 - accuracy: 0.6586 - val_loss: 0.6268 - val_accuracy: 0.6154\n",
            "Epoch 12/20\n",
            "2/2 [==============================] - 6s 3s/step - loss: 0.6182 - accuracy: 0.6571 - val_loss: 0.6229 - val_accuracy: 0.6231\n",
            "Epoch 13/20\n",
            "2/2 [==============================] - 5s 3s/step - loss: 0.6095 - accuracy: 0.6486 - val_loss: 0.6219 - val_accuracy: 0.6269\n",
            "Epoch 14/20\n",
            "2/2 [==============================] - 6s 3s/step - loss: 0.6059 - accuracy: 0.6486 - val_loss: 0.6171 - val_accuracy: 0.6308\n",
            "Epoch 15/20\n",
            "2/2 [==============================] - 5s 3s/step - loss: 0.6082 - accuracy: 0.6614 - val_loss: 0.6121 - val_accuracy: 0.6346\n",
            "Epoch 16/20\n",
            "1/2 [==============>...............] - ETA: 0s - loss: 0.6139 - accuracy: 0.6680"
          ],
          "name": "stdout"
        }
      ]
    },
    {
      "cell_type": "code",
      "metadata": {
        "id": "dRCsGASYUnDG",
        "colab_type": "code",
        "colab": {}
      },
      "source": [
        "plt.plot(history.history['acc'])\n",
        "plt.plot(history.history['val_acc'])\n",
        "plt.title('model accuracy')\n",
        "plt.ylabel('accuracy')\n",
        "plt.xlabel('epoch')\n",
        "plt.legend(['train', 'test'], loc='upper left')\n",
        "plt.show()"
      ],
      "execution_count": null,
      "outputs": []
    },
    {
      "cell_type": "code",
      "metadata": {
        "id": "jGVHcPZmVGsK",
        "colab_type": "code",
        "colab": {}
      },
      "source": [
        "import matplotlib.pyplot as plt\n",
        "from sklearn.metrics import confusion_matrix\n",
        "import itertools\n",
        "\n",
        "cnf_matrix = confusion_matrix(y_test,y_predict)\n",
        "\n",
        "def plot_confusion_matrix(cm, classes,\n",
        "                          normalize=False,\n",
        "                          title='Confusion matrix',\n",
        "                          cmap=plt.cm.Blues):\n",
        "    \"\"\"\n",
        "    This function prints and plots the confusion matrix.\n",
        "    Normalization can be applied by setting `normalize=True`.\n",
        "    \"\"\"\n",
        "    if normalize:\n",
        "        cm = cm.astype('float') / cm.sum(axis=1)[:, np.newaxis]\n",
        "        print(\"Normalized confusion matrix\")\n",
        "    else:\n",
        "        print('Confusion matrix, without normalization')\n",
        "\n",
        "    print(cm)\n",
        "\n",
        "    plt.imshow(cm, interpolation='nearest', cmap=cmap)\n",
        "    plt.title(title)\n",
        "    plt.colorbar()\n",
        "    tick_marks = np.arange(len(classes))\n",
        "    plt.xticks(tick_marks, classes, rotation=45)\n",
        "    plt.yticks(tick_marks, classes)\n",
        "\n",
        "    fmt = '.2f' if normalize else 'd'\n",
        "    thresh = cm.max() / 2.\n",
        "    for i, j in itertools.product(range(cm.shape[0]), range(cm.shape[1])):\n",
        "        plt.text(j, i, format(cm[i, j], fmt),\n",
        "                 horizontalalignment=\"center\",\n",
        "                 color=\"white\" if cm[i, j] > thresh else \"black\")\n",
        "\n",
        "    plt.ylabel('True label')\n",
        "    plt.xlabel('Predicted label')\n",
        "    plt.tight_layout()"
      ],
      "execution_count": null,
      "outputs": []
    },
    {
      "cell_type": "code",
      "metadata": {
        "id": "IoBfr3mOVI1t",
        "colab_type": "code",
        "colab": {}
      },
      "source": [
        "plt.figure()\n",
        "plot_confusion_matrix(cnf_matrix, classes=['Non Spam','Spam'], normalize=False,\n",
        "                      title='Confusion matrix')"
      ],
      "execution_count": null,
      "outputs": []
    },
    {
      "cell_type": "code",
      "metadata": {
        "id": "x9tCMXJsiLO0",
        "colab_type": "code",
        "colab": {}
      },
      "source": [
        "def get_predictions(text):\n",
        "    sequence = tokenizer.texts_to_sequences([text])\n",
        "    # pad the sequence\n",
        "    sequence = pad_sequences(sequence, maxlen=SEQUENCE_LENGTH)\n",
        "    # get the prediction\n",
        "    prediction = model.predict(sequence)[0]\n",
        "    # one-hot encoded vector, revert using np.argmax\n",
        "    return int2label[np.argmax(prediction)]"
      ],
      "execution_count": null,
      "outputs": []
    },
    {
      "cell_type": "code",
      "metadata": {
        "id": "tpkDrDoXiN_K",
        "colab_type": "code",
        "colab": {}
      },
      "source": [
        "text = \"Congratulations! you have won 100,000$ this week, click here to claim fast\"\n",
        "print(get_predictions(text))"
      ],
      "execution_count": null,
      "outputs": []
    }
  ]
}